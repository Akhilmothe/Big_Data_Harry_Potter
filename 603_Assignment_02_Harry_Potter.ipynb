{
 "cells": [
  {
   "cell_type": "markdown",
   "id": "67b56361",
   "metadata": {},
   "source": [
    "## Write Python code and use MapReduct to count occurrences of each word in the first text file (file.txt). How many times each word is repeated?"
   ]
  },
  {
   "cell_type": "markdown",
   "id": "8fff23d1",
   "metadata": {},
   "source": [
    "##### My Date of Birth = 10-22-1999(October 22, 1999).\n",
    "\n",
    "##### 1. So, as my birth month  is 10, I have divided it by 2 so my book number is '5'. Name of the book is \"Harry Potter and the Order of the Phoenix – J.K. Rowling\". \n",
    "\n",
    "##### 2. Next I have selected the pages for task-1 based on my birthdate i.e., 22. So, I have selected next 10 pages from that pager number.\n",
    "\n",
    "##### 3. For task-2 as my birth year is 1999(last two digits '99') so I have selected next 10 pages from that page number."
   ]
  },
  {
   "cell_type": "code",
   "execution_count": 1,
   "id": "32b24f83",
   "metadata": {},
   "outputs": [],
   "source": [
    "import re\n",
    "from collections import defaultdict,Counter\n",
    "from functools import reduce\n",
    "\n",
    "def split_text_into_words(input_text): \n",
    "    words_list = text.split()                          #Splitting the text into individual words\n",
    "    return words_list"
   ]
  },
  {
   "cell_type": "code",
   "execution_count": 2,
   "id": "8f3fface",
   "metadata": {},
   "outputs": [],
   "source": [
    "def remove_punctuation_chars(input_word):\n",
    "    return re.sub(r'[^\\w\\s]', '', input_word).strip() #Removing punctuation from a list of individual words using regular expression"
   ]
  },
  {
   "cell_type": "code",
   "execution_count": 3,
   "id": "0f610648",
   "metadata": {},
   "outputs": [],
   "source": [
    "def map_words_custom(input_text):\n",
    "    words_list = split_text_into_words(input_text)         #Splitting the input text into words by using above split text function\n",
    "    cleaned_words_list = []                                #Initialize an empty list to store cleaned words \n",
    "    for word in words_list:\n",
    "        cleaned_word = remove_punctuation_chars(word.lower())#Remove punctuation characters from the word using the remove_punctuation_chars function\n",
    "        cleaned_words_list.append(cleaned_word)             #Appending the cleaned words into empty list\n",
    "    return cleaned_words_list"
   ]
  },
  {
   "cell_type": "code",
   "execution_count": 4,
   "id": "8f81dbfd",
   "metadata": {},
   "outputs": [],
   "source": [
    "def reduce_word_counts_custom(word_count_dict1, word_count_dict2):\n",
    "    for word, count in word_count_dict2.items():\n",
    "        if word in word_count_dict1:               #Check if the word already exists in word_count_dict1\n",
    "            word_count_dict1[word] += count        #If the word exists in word_count_dict1, add the count from word_count_dict2 to it\n",
    "        else:\n",
    "            word_count_dict1[word] = count          #If the word doesn't exist in word_count_dict1, add it with the count from word_count_dict2    \n",
    "    return word_count_dict1"
   ]
  },
  {
   "cell_type": "code",
   "execution_count": 5,
   "id": "cf953c3a",
   "metadata": {},
   "outputs": [
    {
     "name": "stdout",
     "output_type": "stream",
     "text": [
      "{'p': 11, 'a': 50, 'g': 11, 'e': 11, '': 95, '22': 1, 'harry': 47, 'potter': 11, 'and': 66, 'the': 131, 'order': 11, 'of': 53, 'phoenix': 11, 'jk': 11, 'rowling': 11, 'muttered': 1, 'frantically': 1, 'his': 45, 'hands': 6, 'flying': 1, 'over': 10, 'ground': 8, 'like': 2, 'spiders': 1, 'wheres': 1, 'wand': 13, 'come': 6, 'on': 29, 'lumos': 1, 'he': 38, 'said': 15, 'spell': 3, 'automatically': 1, 'desperate': 1, 'for': 10, 'light': 3, 'to': 59, 'help': 5, 'him': 24, 'in': 28, 'search': 1, 'disbelieving': 1, 'relief': 1, 'flared': 1, 'inches': 1, 'from': 15, 'right': 3, 'hand': 1, 'tip': 3, 'had': 11, 'ignited': 1, 'snatched': 1, 'it': 25, 'up': 10, 'scrambled': 1, 'feet': 6, 'turned': 4, 'around': 11, 'stomach': 1, 'towering': 1, 'hooded': 2, 'figure': 1, 'was': 42, 'gliding': 1, 'smoothly': 1, 'toward': 5, 'hovering': 1, 'no': 5, 'or': 2, 'face': 9, 'visible': 1, 'beneath': 1, 'its': 9, 'robes': 2, 'sucking': 1, 'night': 2, 'as': 20, 'came': 6, 'stumbling': 1, 'backward': 2, 'raised': 2, 'expecto': 3, 'patronum': 3, 'silvery': 2, 'wisp': 2, 'vapor': 1, 'shot': 1, 'dementor': 5, 'slowed': 1, 'but': 19, 'hadnt': 1, 'worked': 1, 'properly': 1, 'tripping': 1, 'retreated': 1, 'farther': 1, 'bore': 1, 'down': 6, 'upon': 1, 'panic': 1, 'fogging': 1, 'brain': 1, 'concentrate': 1, 'pair': 1, 'gray': 2, 'slimy': 2, 'scabbed': 1, 'slid': 1, 'inside': 6, 'dementors': 14, 'reaching': 1, 'rushing': 2, 'noise': 2, 'filled': 3, 'harrys': 5, 'ears': 1, 'voice': 3, 'sounded': 1, 'dim': 1, 'distant': 1, 'another': 2, 'silver': 5, 'smoke': 1, 'feebler': 1, 'than': 1, 'last': 2, 'drifted': 1, 'couldnt': 2, 'do': 4, 'anymore': 1, 'work': 1, 'there': 7, 'laughter': 3, 'own': 5, 'head': 4, 'shrill': 1, 'highpitched': 2, 'could': 6, 'smell': 2, '23': 1, 'putrid': 1, 'deathcold': 1, 'breath': 3, 'filling': 1, 'lungs': 1, 'drowning': 1, 'think': 1, 'something': 3, 'happy': 1, 'happiness': 1, 'icy': 1, 'fingers': 1, 'were': 9, 'closing': 1, 'throat': 1, 'growing': 1, 'louder': 2, 'spoke': 1, 'bow': 1, 'death': 1, 'might': 2, 'even': 1, 'be': 9, 'painless': 1, 'i': 29, 'would': 3, 'not': 8, 'know': 7, 'have': 10, 'never': 5, 'died': 1, 'going': 13, 'see': 4, 'ron': 1, 'hermione': 1, 'again': 4, 'their': 5, 'faces': 1, 'burst': 2, 'clearly': 1, 'into': 8, 'mind': 2, 'fought': 1, 'an': 9, 'enormous': 2, 'stag': 5, 'erupted': 1, 'antlers': 2, 'caught': 2, 'place': 1, 'where': 2, 'heart': 1, 'should': 1, 'been': 5, 'thrown': 2, 'weightless': 1, 'darkness': 4, 'charged': 1, 'swooped': 1, 'away': 4, 'batlike': 1, 'defeated': 1, 'this': 5, 'way': 2, 'shouted': 2, 'at': 12, 'wheeling': 1, 'sprinted': 1, 'alleyway': 4, 'holding': 1, 'lit': 1, 'aloft': 1, 'dudley': 18, 'run': 1, 'barely': 3, 'dozen': 1, 'steps': 1, 'when': 6, 'reached': 2, 'them': 9, 'curled': 2, 'arms': 4, 'clamped': 1, 'second': 1, 'crouching': 1, 'low': 1, 'gripping': 1, 'wrists': 1, 'prizing': 1, 'slowly': 2, 'almost': 2, 'lovingly': 1, 'apart': 1, 'lowering': 1, 'dudleys': 7, 'though': 1, 'about': 5, 'kiss': 1, 'get': 7, 'bellowed': 1, 'with': 9, 'roaring': 1, 'sound': 1, 'conjured': 1, 'galloping': 1, 'back': 7, 'past': 1, 'eyeless': 1, '24': 1, 'inch': 1, 'thing': 1, 'air': 3, 'fellow': 1, 'soared': 1, 'absorbed': 1, 'cantered': 1, 'end': 2, 'dissolved': 1, 'mist': 1, 'moon': 1, 'stars': 1, 'streetlamps': 1, 'life': 1, 'warm': 1, 'breeze': 1, 'swept': 1, 'trees': 1, 'rustled': 1, 'neighboring': 1, 'gardens': 1, 'mundane': 1, 'rumble': 1, 'cars': 1, 'magnolia': 1, 'crescent': 1, 'stood': 1, 'quite': 3, 'still': 5, 'all': 7, 'senses': 1, 'vibrating': 1, 'taking': 1, 'abrupt': 1, 'return': 1, 'normality': 1, 'after': 4, 'moment': 3, 'became': 1, 'aware': 1, 'that': 7, 'tshirt': 1, 'sticking': 1, 'drenched': 1, 'sweat': 2, 'believe': 1, 'what': 14, 'just': 8, 'happened': 4, 'here': 5, 'little': 1, 'whinging': 1, 'lay': 1, 'whimpering': 1, 'shaking': 1, 'bent': 1, 'whether': 2, 'fit': 1, 'state': 1, 'stand': 2, 'then': 2, 'heard': 1, 'loud': 3, 'running': 1, 'footsteps': 1, 'behind': 1, 'instinctively': 1, 'raising': 1, 'spun': 1, 'heel': 1, 'newcomer': 1, 'mrs': 18, 'figg': 17, 'batty': 2, 'old': 3, 'neighbor': 2, 'panting': 2, 'sight': 2, 'her': 11, 'grizzled': 1, 'hair': 2, 'escaping': 1, 'hairnet': 1, 'clanking': 3, 'string': 3, 'shopping': 1, 'bag': 4, 'swinging': 2, 'wrist': 1, 'halfway': 1, 'out': 6, 'tartan': 1, 'carpet': 2, 'slippers': 2, 'made': 4, 'stow': 1, 'hurriedly': 1, 'dont': 6, 'put': 3, 'idiot': 1, 'boy': 5, 'she': 7, 'shrieked': 3, 'if': 4, 'are': 5, 'more': 5, 'oh': 7, 'im': 8, 'kill': 3, 'mundungus': 11, 'fletcher': 2, '25': 1, 'peck': 1, 'owls': 1, 'blankly': 1, 'left': 4, 'wringing': 2, 'someone': 2, 'batch': 1, 'cauldrons': 2, 'fell': 1, 'off': 6, 'broom': 1, 'told': 3, 'id': 2, 'flay': 1, 'alive': 1, 'went': 1, 'now': 6, 'look': 2, 'lucky': 1, 'mr': 4, 'tibbies': 3, 'case': 3, 'we': 3, 'havent': 2, 'got': 4, 'time': 6, 'hurry': 2, 'weve': 1, 'you': 44, 'trouble': 1, 'is': 4, 'cause': 1, 'will': 3, 'revelation': 1, 'catobsessed': 1, 'knew': 1, 'big': 1, 'shock': 1, 'meeting': 1, 'two': 1, 'youre': 3, 'witch': 1, 'squib': 2, 'knows': 1, 'full': 2, 'well': 5, 'so': 4, 'how': 3, 'earth': 1, 'supposed': 2, 'fight': 2, 'completely': 1, 'without': 1, 'cover': 1, 'warned': 2, '26': 1, 'bloke': 1, 'has': 2, 'following': 1, 'me': 5, 'hang': 3, 'disapparated': 1, 'front': 5, 'my': 5, 'house': 4, 'yes': 5, 'luckily': 1, 'stationed': 1, 'under': 5, 'car': 1, 'by': 4, 'your': 8, 'youd': 1, 'gone': 1, 'whats': 6, 'dumbledore': 12, 'say': 4, 'supine': 1, 'alley': 1, 'floor': 1, 'fat': 1, 'bottom': 1, 'quick': 1, 'staring': 3, 'course': 2, 'who': 3, 'doesnt': 1, 'ill': 6, 'they': 7, 'ive': 2, 'much': 1, 'transfigured': 1, 'teabag': 1, 'stooped': 1, 'seized': 1, 'one': 2, 'massive': 2, 'wizened': 1, 'tugged': 1, 'useless': 2, 'lump': 1, 'either': 1, 'move': 1, 'trembling': 1, 'ashenfaced': 1, 'mouth': 2, 'shut': 1, 'very': 3, 'tight': 1, 'took': 1, 'hold': 2, 'arm': 3, 'heaved': 1, 'effort': 2, 'managed': 2, 'hoist': 1, 'seemed': 3, 'point': 1, 'fainting': 1, 'small': 1, 'eyes': 3, 'rolling': 1, 'sockets': 1, 'beading': 1, 'let': 3, 'go': 3, 'swayed': 2, 'dangerously': 1, 'hysterically': 1, 'pulled': 1, 'shoulders': 1, 'dragged': 1, 'road': 1, '27': 1, 'sagging': 1, 'slightly': 1, 'weight': 2, 'tottered': 1, 'along': 3, 'peering': 1, 'anxiously': 1, 'corner': 1, 'keep': 6, 'entered': 1, 'wisteria': 2, 'walk': 3, 'statute': 1, 'secrecy': 1, 'theres': 1, 'hell': 1, 'pay': 1, 'anyway': 1, 'hanged': 1, 'dragon': 1, 'egg': 1, 'talk': 1, 'reasonable': 1, 'restriction': 1, 'underage': 2, 'sorcery': 1, 'exactly': 1, 'afraid': 2, 'street': 2, 'prentice': 1, 'telling': 1, 'use': 2, 'easy': 2, 'steady': 1, 'carry': 1, 'same': 1, 'gave': 4, 'cousin': 1, 'impatient': 1, 'dig': 1, 'ribs': 1, 'lost': 1, 'desire': 1, 'independent': 1, 'movement': 1, 'slumped': 1, 'shoulder': 2, 'large': 1, 'dragging': 1, 'why': 4, 'didnt': 4, 'tell': 6, 'asked': 2, 'walking': 1, 'those': 1, 'times': 1, 'round': 1, 'anything': 2, 'dumbledores': 2, 'orders': 1, 'eye': 1, 'too': 2, 'young': 1, 'sorry': 1, 'such': 1, 'miserable': 1, 'dursleys': 3, 'theyd': 1, 'thought': 1, 'enjoyed': 1, 'wasnt': 1, 'word': 2, 'tragically': 1, 'once': 2, 'hears': 1, 'duty': 1, 'until': 1, 'midnight': 1, 'am': 2, 'cant': 1, 'apparate': 1, '28': 1, 'owl': 1, 'can': 2, 'borrow': 1, 'groaned': 1, 'wondering': 1, 'spine': 1, 'snap': 1, 'understand': 1, 'need': 2, 'act': 1, 'quickly': 2, 'possible': 1, 'ministry': 1, 'ways': 1, 'detecting': 1, 'magic': 3, 'theyll': 1, 'already': 2, 'mark': 1, 'words': 1, 'getting': 2, 'rid': 1, 'theyre': 1, 'worried': 1, 'doing': 2, 'floating': 1, 'surely': 1, 'dear': 1, 'wish': 1, 'crack': 2, 'strong': 1, 'mingled': 2, 'drink': 1, 'stale': 1, 'tobacco': 1, 'squat': 1, 'unshaven': 1, 'man': 1, 'tattered': 1, 'overcoat': 1, 'materialized': 1, 'short': 1, 'bandy': 1, 'legs': 1, 'long': 1, 'straggly': 1, 'ginger': 1, 'bloodshot': 1, 'baggy': 1, 'doleful': 1, 'basset': 1, 'hound': 1, 'also': 1, 'clutching': 1, 'bundle': 1, 'recognized': 1, 'invisibility': 1, 'cloak': 1, 's': 1, 'figgy': 1, 'appened': 1, 'staying': 1, 'undercover': 2, 'give': 3, 'cried': 1, 'skiving': 1, 'sneak': 1, 'thief': 1, 'repeated': 1, 'aghast': 1, '29': 1, 'worthless': 1, 'pile': 1, 'bat': 2, 'droppings': 1, 'attacking': 1, 'watch': 1, 'blimey': 2, 'weakly': 1, 'looking': 2, 'buying': 1, 'stolen': 1, 'looked': 2, 'deeply': 1, 'uncomfortable': 1, 'good': 4, 'business': 1, 'opportunity': 1, 'which': 2, 'dangled': 1, 'whacked': 1, 'neck': 1, 'judging': 1, 'cat': 2, 'food': 2, 'ouch': 1, 'gerroff': 2, 'mad': 1, 'someones': 1, 'gotta': 1, 'yelled': 1, 'every': 1, 'bit': 1, 'reach': 1, 'better': 1, 'werent': 1, 'airnet': 1, 'cowering': 1, 'vanished': 1, 'hope': 1, 'murders': 1, 'furiously': 1, 'waiting': 1, 'decided': 1, 'waste': 1, 'remaining': 1, 'pointing': 1, '30': 1, 'bulk': 1, 'semiconscious': 1, 'heave': 1, 'staggered': 1, 'onward': 1, 'take': 1, 'door': 3, 'privet': 1, 'drive': 1, 'catastrophe': 1, 'yourself': 1, 'costs': 1, 'crying': 1, 'spilled': 1, 'potion': 1, 'suppose': 1, 'cats': 1, 'among': 1, 'pixies': 1, 'panted': 1, 'having': 1, 'followed': 1, 'impatiently': 1, 'did': 5, 'expect': 2, 'wander': 1, 'june': 1, 'lord': 1, 'intelligent': 1, 'stay': 2, 'number': 2, 'four': 1, 'touch': 1, 'soon': 1, 'enough': 1, 'straight': 1, 'home': 1, 'dark': 1, 'shuddering': 1, 'wait': 2, 'instructions': 1, 'yet': 1, 'want': 1, 'set': 1, 'trot': 1, 'flopping': 1, 'million': 1, 'questions': 1, 'ask': 1, 'anyone': 1, 'contact': 1, 'within': 1, 'seconds': 1, 'swallowed': 1, 'scowling': 1, '31': 1, 'readjusted': 1, 'slow': 1, 'painful': 1, 'fours': 1, 'garden': 1, 'path': 1, 'hall': 2, 'stuck': 1, 'waistband': 1, 'jeans': 1, 'rang': 1, 'bell': 1, 'watched': 1, 'aunt': 4, 'petunias': 1, 'outline': 1, 'grow': 1, 'larger': 2, 'oddly': 2, 'distorted': 1, 'rippling': 1, 'glass': 1, 'diddy': 6, 'matter': 2, 'sideways': 1, 'ducked': 1, 'spot': 1, 'pale': 1, 'green': 2, 'opened': 1, 'vomited': 1, 'doormat': 1, 'vernon': 7, 'uncle': 3, 'galumphing': 1, 'living': 1, 'room': 1, 'walrus': 1, 'mustache': 1, 'blowing': 1, 'hither': 1, 'thither': 1, 'always': 1, 'agitated': 1, 'hurried': 1, 'forward': 1, 'petunia': 3, 'negotiate': 1, 'weakkneed': 1, 'threshold': 1, 'while': 2, 'avoiding': 1, 'stepping': 1, 'pool': 1, 'sick': 1, 'hes': 2, 'son': 3, 'polkiss': 1, 'foreign': 1, 'tea': 1, 'covered': 1, 'dirt': 1, 'darling': 2, 'lying': 1, 'mugged': 1, '32': 1, 'screamed': 1, 'phone': 2, 'police': 2, 'speak': 1, 'mummy': 2, 'kerfuffle': 1, 'nobody': 1, 'noticed': 1, 'suited': 1, 'perfectly': 1, 'slip': 1, 'before': 1, 'slammed': 1, 'noisy': 1, 'progress': 1, 'kitchen': 2, 'moved': 1, 'carefully': 1, 'quietly': 1, 'stairs': 1, 'us': 1, 'names': 1, 'worry': 1, 'shh': 1, 'trying': 1, 'foot': 3, 'bottommost': 1, 'stair': 3, 'found': 1, 'froze': 1, 'screwed': 1, 'braced': 1, 'explosion': 1, 'feeling': 1, 'dread': 1, 'anger': 1, 'removed': 1, 'follow': 1, 'scrupulously': 1, 'clean': 1, 'unreal': 1, 'glitter': 1, 'outside': 1, 'ushering': 1, 'chair': 1, 'clammy': 1, 'standing': 1, 'draining': 1, 'board': 1, 'glaring': 1, 'through': 1, 'tiny': 1, 'narrowed': 1}\n"
     ]
    }
   ],
   "source": [
    "with open('file1.txt', 'rb') as file:\n",
    "    text_lines = file.readlines()\n",
    "    lines = [line.decode('utf-8') for line in text_lines]\n",
    "    text = ' '.join(lines)\n",
    "\n",
    "    word_lists_custom = list(map(map_words_custom, [text]))    #Use map to split and clean words for each part of the text\n",
    "\n",
    "    total_word_counts_custom = defaultdict(int)                #Initialize a defaultdict to store each word count\n",
    "\n",
    "    total_word_counts_custom = reduce(reduce_word_counts_custom, [Counter(word_list) for word_list in word_lists_custom]) #Use reduce to combine word counts from different parts\n",
    "\n",
    "    print(dict(total_word_counts_custom))                      #Print the final dictionary"
   ]
  },
  {
   "cell_type": "markdown",
   "id": "b29398cd",
   "metadata": {},
   "source": [
    "## From the second text file (file2.txt), write Python code and use MapReduct to count how many times non-English words (names, places, spells etc.) were used. List those words and how many times each was repeated."
   ]
  },
  {
   "cell_type": "code",
   "execution_count": 6,
   "id": "f5b5f582",
   "metadata": {},
   "outputs": [
    {
     "name": "stdout",
     "output_type": "stream",
     "text": [
      "Requirement already satisfied: pyenchant in c:\\users\\akhil mothe\\anaconda3\\lib\\site-packages (3.2.2)\n"
     ]
    }
   ],
   "source": [
    "!pip install pyenchant                    "
   ]
  },
  {
   "cell_type": "code",
   "execution_count": 7,
   "id": "d118a3c1",
   "metadata": {},
   "outputs": [],
   "source": [
    "import enchant                                   #Using the enchant library for spellchecking\n",
    "import string\n",
    "import re\n",
    "from collections import Counter\n",
    "\n",
    "def map_words(text):\n",
    "    words = re.findall(r'\\b\\w+\\b', text.lower())   #Split text into individual words and remove punctuation\n",
    "    return words"
   ]
  },
  {
   "cell_type": "code",
   "execution_count": 8,
   "id": "31e8fc51",
   "metadata": {},
   "outputs": [],
   "source": [
    "def reduce_words(text, dictionary):\n",
    "    \n",
    "    words = map_words(text)                          #Split the input text into words\n",
    "\n",
    "    non_english_words = []                           #Create an empty list for non-English words\n",
    "\n",
    "    for word in words:                               #Iterate through each word\n",
    "    \n",
    "        is_non_english = not dictionary.check(word)  #Check if the word is not in the dictionary (non-English)\n",
    "\n",
    "        if is_non_english:\n",
    "            non_english_words.append(word)           #Add non-English words to the list\n",
    "\n",
    "    return non_english_words                         #Return the list of non-English word"
   ]
  },
  {
   "cell_type": "code",
   "execution_count": 9,
   "id": "2699fc2b",
   "metadata": {},
   "outputs": [],
   "source": [
    "\n",
    "def format_output(non_english_word_count):\n",
    "    output_list = [(word, count) for word, count in non_english_word_count.items()]  #Format the non-English words and their frequencies as a list of tuples\n",
    "    return output_list"
   ]
  },
  {
   "cell_type": "code",
   "execution_count": 10,
   "id": "180ab0f1",
   "metadata": {},
   "outputs": [],
   "source": [
    "english_dict = enchant.Dict(\"en_US\")         #Initialize the enchant dictionary for English"
   ]
  },
  {
   "cell_type": "code",
   "execution_count": 11,
   "id": "8172311d",
   "metadata": {},
   "outputs": [
    {
     "name": "stdout",
     "output_type": "stream",
     "text": [
      "rowling: 11\n",
      "fred: 4\n",
      "snape: 3\n",
      "ron: 1\n",
      "hermione: 3\n",
      "lupin: 4\n",
      "mrs: 19\n",
      "weasley: 23\n",
      "tonks: 9\n",
      "ve: 14\n",
      "yoooou: 1\n",
      "sirius: 24\n",
      "hasn: 2\n",
      "dumbledore: 3\n",
      "mr: 4\n",
      "didn: 4\n",
      "greenland: 1\n",
      "evanesco: 1\n",
      "mundungus: 13\n",
      "arry: 1\n",
      "pology: 1\n",
      "figgy: 1\n",
      "wouldn: 1\n",
      "crookshanks: 2\n",
      "dementor: 1\n",
      "voldemort: 1\n",
      "animagus: 1\n",
      "wormtail: 1\n",
      "george: 2\n",
      "butterbeer: 3\n",
      "apparate: 1\n",
      "percy: 1\n",
      "alastor: 1\n",
      "beaklike: 1\n",
      "Number of non-english words: 34\n"
     ]
    }
   ],
   "source": [
    "def main():\n",
    "    with open('file2.txt', 'rb') as file:\n",
    "        lines = file.readlines()\n",
    "        lines = [line.decode('utf-8') for line in lines]\n",
    "        text = ''.join(lines)\n",
    "\n",
    "    non_english_words = reduce_words(text, english_dict)\n",
    "\n",
    "    non_english_word_count = Counter(non_english_words)  #Count the frequency of each non-English word\n",
    "\n",
    "    output_list = format_output(non_english_word_count)   #Format the output as a list of tuples\n",
    "\n",
    "    words = 0\n",
    "    for word, frequency in output_list:\n",
    "        words += 1\n",
    "        print(f\"{word}: {frequency}\")                     #Print the non-English words and their frequencies in dictionary-like format\n",
    "    print('Number of non-english words:',words)\n",
    "if __name__ == \"__main__\":\n",
    "    main()\n"
   ]
  }
 ],
 "metadata": {
  "kernelspec": {
   "display_name": "Python 3 (ipykernel)",
   "language": "python",
   "name": "python3"
  },
  "language_info": {
   "codemirror_mode": {
    "name": "ipython",
    "version": 3
   },
   "file_extension": ".py",
   "mimetype": "text/x-python",
   "name": "python",
   "nbconvert_exporter": "python",
   "pygments_lexer": "ipython3",
   "version": "3.9.12"
  }
 },
 "nbformat": 4,
 "nbformat_minor": 5
}
